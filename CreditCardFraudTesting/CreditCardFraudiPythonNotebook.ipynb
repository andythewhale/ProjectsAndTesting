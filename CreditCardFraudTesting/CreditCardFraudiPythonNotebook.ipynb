{
 "cells": [
  {
   "cell_type": "code",
   "execution_count": 23,
   "metadata": {
    "collapsed": false
   },
   "outputs": [],
   "source": [
    "\n",
    "#Andrew J. Miller  - March 28th, 2017 - 22:27\n",
    "\n",
    "#Bowling Green, KY\n",
    "\n",
    "#This is the iPython notebook for the Credit Card Fraud main file. Everything will \n",
    "#be written and explained in this file. I hope that this helps myself better\n",
    "#understand the solution to this problem. Hopefully I will learn something.\n",
    "\n",
    "#Credit: joparga3 for checking my work and providing a framework.\n",
    "\n",
    "#Thanks!\n",
    "#Andy\n",
    "\n"
   ]
  },
  {
   "cell_type": "code",
   "execution_count": 24,
   "metadata": {
    "collapsed": false
   },
   "outputs": [],
   "source": [
    "#Let us do as the romans, and import our main libraries\n",
    "import pandas as pd\n",
    "import matplotlib.pyplot as plt\n",
    "import numpy as np\n",
    "%matplotlib inline"
   ]
  },
  {
   "cell_type": "code",
   "execution_count": 25,
   "metadata": {
    "collapsed": false
   },
   "outputs": [
    {
     "data": {
      "text/html": [
       "<div>\n",
       "<table border=\"1\" class=\"dataframe\">\n",
       "  <thead>\n",
       "    <tr style=\"text-align: right;\">\n",
       "      <th></th>\n",
       "      <th>Time</th>\n",
       "      <th>V1</th>\n",
       "      <th>V2</th>\n",
       "      <th>V3</th>\n",
       "      <th>V4</th>\n",
       "      <th>V5</th>\n",
       "      <th>V6</th>\n",
       "      <th>V7</th>\n",
       "      <th>V8</th>\n",
       "      <th>V9</th>\n",
       "      <th>...</th>\n",
       "      <th>V21</th>\n",
       "      <th>V22</th>\n",
       "      <th>V23</th>\n",
       "      <th>V24</th>\n",
       "      <th>V25</th>\n",
       "      <th>V26</th>\n",
       "      <th>V27</th>\n",
       "      <th>V28</th>\n",
       "      <th>Amount</th>\n",
       "      <th>Class</th>\n",
       "    </tr>\n",
       "  </thead>\n",
       "  <tbody>\n",
       "    <tr>\n",
       "      <th>0</th>\n",
       "      <td>0.0</td>\n",
       "      <td>-1.359807</td>\n",
       "      <td>-0.072781</td>\n",
       "      <td>2.536347</td>\n",
       "      <td>1.378155</td>\n",
       "      <td>-0.338321</td>\n",
       "      <td>0.462388</td>\n",
       "      <td>0.239599</td>\n",
       "      <td>0.098698</td>\n",
       "      <td>0.363787</td>\n",
       "      <td>...</td>\n",
       "      <td>-0.018307</td>\n",
       "      <td>0.277838</td>\n",
       "      <td>-0.110474</td>\n",
       "      <td>0.066928</td>\n",
       "      <td>0.128539</td>\n",
       "      <td>-0.189115</td>\n",
       "      <td>0.133558</td>\n",
       "      <td>-0.021053</td>\n",
       "      <td>149.62</td>\n",
       "      <td>0</td>\n",
       "    </tr>\n",
       "    <tr>\n",
       "      <th>1</th>\n",
       "      <td>0.0</td>\n",
       "      <td>1.191857</td>\n",
       "      <td>0.266151</td>\n",
       "      <td>0.166480</td>\n",
       "      <td>0.448154</td>\n",
       "      <td>0.060018</td>\n",
       "      <td>-0.082361</td>\n",
       "      <td>-0.078803</td>\n",
       "      <td>0.085102</td>\n",
       "      <td>-0.255425</td>\n",
       "      <td>...</td>\n",
       "      <td>-0.225775</td>\n",
       "      <td>-0.638672</td>\n",
       "      <td>0.101288</td>\n",
       "      <td>-0.339846</td>\n",
       "      <td>0.167170</td>\n",
       "      <td>0.125895</td>\n",
       "      <td>-0.008983</td>\n",
       "      <td>0.014724</td>\n",
       "      <td>2.69</td>\n",
       "      <td>0</td>\n",
       "    </tr>\n",
       "    <tr>\n",
       "      <th>2</th>\n",
       "      <td>1.0</td>\n",
       "      <td>-1.358354</td>\n",
       "      <td>-1.340163</td>\n",
       "      <td>1.773209</td>\n",
       "      <td>0.379780</td>\n",
       "      <td>-0.503198</td>\n",
       "      <td>1.800499</td>\n",
       "      <td>0.791461</td>\n",
       "      <td>0.247676</td>\n",
       "      <td>-1.514654</td>\n",
       "      <td>...</td>\n",
       "      <td>0.247998</td>\n",
       "      <td>0.771679</td>\n",
       "      <td>0.909412</td>\n",
       "      <td>-0.689281</td>\n",
       "      <td>-0.327642</td>\n",
       "      <td>-0.139097</td>\n",
       "      <td>-0.055353</td>\n",
       "      <td>-0.059752</td>\n",
       "      <td>378.66</td>\n",
       "      <td>0</td>\n",
       "    </tr>\n",
       "    <tr>\n",
       "      <th>3</th>\n",
       "      <td>1.0</td>\n",
       "      <td>-0.966272</td>\n",
       "      <td>-0.185226</td>\n",
       "      <td>1.792993</td>\n",
       "      <td>-0.863291</td>\n",
       "      <td>-0.010309</td>\n",
       "      <td>1.247203</td>\n",
       "      <td>0.237609</td>\n",
       "      <td>0.377436</td>\n",
       "      <td>-1.387024</td>\n",
       "      <td>...</td>\n",
       "      <td>-0.108300</td>\n",
       "      <td>0.005274</td>\n",
       "      <td>-0.190321</td>\n",
       "      <td>-1.175575</td>\n",
       "      <td>0.647376</td>\n",
       "      <td>-0.221929</td>\n",
       "      <td>0.062723</td>\n",
       "      <td>0.061458</td>\n",
       "      <td>123.50</td>\n",
       "      <td>0</td>\n",
       "    </tr>\n",
       "    <tr>\n",
       "      <th>4</th>\n",
       "      <td>2.0</td>\n",
       "      <td>-1.158233</td>\n",
       "      <td>0.877737</td>\n",
       "      <td>1.548718</td>\n",
       "      <td>0.403034</td>\n",
       "      <td>-0.407193</td>\n",
       "      <td>0.095921</td>\n",
       "      <td>0.592941</td>\n",
       "      <td>-0.270533</td>\n",
       "      <td>0.817739</td>\n",
       "      <td>...</td>\n",
       "      <td>-0.009431</td>\n",
       "      <td>0.798278</td>\n",
       "      <td>-0.137458</td>\n",
       "      <td>0.141267</td>\n",
       "      <td>-0.206010</td>\n",
       "      <td>0.502292</td>\n",
       "      <td>0.219422</td>\n",
       "      <td>0.215153</td>\n",
       "      <td>69.99</td>\n",
       "      <td>0</td>\n",
       "    </tr>\n",
       "    <tr>\n",
       "      <th>5</th>\n",
       "      <td>2.0</td>\n",
       "      <td>-0.425966</td>\n",
       "      <td>0.960523</td>\n",
       "      <td>1.141109</td>\n",
       "      <td>-0.168252</td>\n",
       "      <td>0.420987</td>\n",
       "      <td>-0.029728</td>\n",
       "      <td>0.476201</td>\n",
       "      <td>0.260314</td>\n",
       "      <td>-0.568671</td>\n",
       "      <td>...</td>\n",
       "      <td>-0.208254</td>\n",
       "      <td>-0.559825</td>\n",
       "      <td>-0.026398</td>\n",
       "      <td>-0.371427</td>\n",
       "      <td>-0.232794</td>\n",
       "      <td>0.105915</td>\n",
       "      <td>0.253844</td>\n",
       "      <td>0.081080</td>\n",
       "      <td>3.67</td>\n",
       "      <td>0</td>\n",
       "    </tr>\n",
       "    <tr>\n",
       "      <th>6</th>\n",
       "      <td>4.0</td>\n",
       "      <td>1.229658</td>\n",
       "      <td>0.141004</td>\n",
       "      <td>0.045371</td>\n",
       "      <td>1.202613</td>\n",
       "      <td>0.191881</td>\n",
       "      <td>0.272708</td>\n",
       "      <td>-0.005159</td>\n",
       "      <td>0.081213</td>\n",
       "      <td>0.464960</td>\n",
       "      <td>...</td>\n",
       "      <td>-0.167716</td>\n",
       "      <td>-0.270710</td>\n",
       "      <td>-0.154104</td>\n",
       "      <td>-0.780055</td>\n",
       "      <td>0.750137</td>\n",
       "      <td>-0.257237</td>\n",
       "      <td>0.034507</td>\n",
       "      <td>0.005168</td>\n",
       "      <td>4.99</td>\n",
       "      <td>0</td>\n",
       "    </tr>\n",
       "    <tr>\n",
       "      <th>7</th>\n",
       "      <td>7.0</td>\n",
       "      <td>-0.644269</td>\n",
       "      <td>1.417964</td>\n",
       "      <td>1.074380</td>\n",
       "      <td>-0.492199</td>\n",
       "      <td>0.948934</td>\n",
       "      <td>0.428118</td>\n",
       "      <td>1.120631</td>\n",
       "      <td>-3.807864</td>\n",
       "      <td>0.615375</td>\n",
       "      <td>...</td>\n",
       "      <td>1.943465</td>\n",
       "      <td>-1.015455</td>\n",
       "      <td>0.057504</td>\n",
       "      <td>-0.649709</td>\n",
       "      <td>-0.415267</td>\n",
       "      <td>-0.051634</td>\n",
       "      <td>-1.206921</td>\n",
       "      <td>-1.085339</td>\n",
       "      <td>40.80</td>\n",
       "      <td>0</td>\n",
       "    </tr>\n",
       "    <tr>\n",
       "      <th>8</th>\n",
       "      <td>7.0</td>\n",
       "      <td>-0.894286</td>\n",
       "      <td>0.286157</td>\n",
       "      <td>-0.113192</td>\n",
       "      <td>-0.271526</td>\n",
       "      <td>2.669599</td>\n",
       "      <td>3.721818</td>\n",
       "      <td>0.370145</td>\n",
       "      <td>0.851084</td>\n",
       "      <td>-0.392048</td>\n",
       "      <td>...</td>\n",
       "      <td>-0.073425</td>\n",
       "      <td>-0.268092</td>\n",
       "      <td>-0.204233</td>\n",
       "      <td>1.011592</td>\n",
       "      <td>0.373205</td>\n",
       "      <td>-0.384157</td>\n",
       "      <td>0.011747</td>\n",
       "      <td>0.142404</td>\n",
       "      <td>93.20</td>\n",
       "      <td>0</td>\n",
       "    </tr>\n",
       "    <tr>\n",
       "      <th>9</th>\n",
       "      <td>9.0</td>\n",
       "      <td>-0.338262</td>\n",
       "      <td>1.119593</td>\n",
       "      <td>1.044367</td>\n",
       "      <td>-0.222187</td>\n",
       "      <td>0.499361</td>\n",
       "      <td>-0.246761</td>\n",
       "      <td>0.651583</td>\n",
       "      <td>0.069539</td>\n",
       "      <td>-0.736727</td>\n",
       "      <td>...</td>\n",
       "      <td>-0.246914</td>\n",
       "      <td>-0.633753</td>\n",
       "      <td>-0.120794</td>\n",
       "      <td>-0.385050</td>\n",
       "      <td>-0.069733</td>\n",
       "      <td>0.094199</td>\n",
       "      <td>0.246219</td>\n",
       "      <td>0.083076</td>\n",
       "      <td>3.68</td>\n",
       "      <td>0</td>\n",
       "    </tr>\n",
       "  </tbody>\n",
       "</table>\n",
       "<p>10 rows × 31 columns</p>\n",
       "</div>"
      ],
      "text/plain": [
       "   Time        V1        V2        V3        V4        V5        V6        V7  \\\n",
       "0   0.0 -1.359807 -0.072781  2.536347  1.378155 -0.338321  0.462388  0.239599   \n",
       "1   0.0  1.191857  0.266151  0.166480  0.448154  0.060018 -0.082361 -0.078803   \n",
       "2   1.0 -1.358354 -1.340163  1.773209  0.379780 -0.503198  1.800499  0.791461   \n",
       "3   1.0 -0.966272 -0.185226  1.792993 -0.863291 -0.010309  1.247203  0.237609   \n",
       "4   2.0 -1.158233  0.877737  1.548718  0.403034 -0.407193  0.095921  0.592941   \n",
       "5   2.0 -0.425966  0.960523  1.141109 -0.168252  0.420987 -0.029728  0.476201   \n",
       "6   4.0  1.229658  0.141004  0.045371  1.202613  0.191881  0.272708 -0.005159   \n",
       "7   7.0 -0.644269  1.417964  1.074380 -0.492199  0.948934  0.428118  1.120631   \n",
       "8   7.0 -0.894286  0.286157 -0.113192 -0.271526  2.669599  3.721818  0.370145   \n",
       "9   9.0 -0.338262  1.119593  1.044367 -0.222187  0.499361 -0.246761  0.651583   \n",
       "\n",
       "         V8        V9  ...         V21       V22       V23       V24  \\\n",
       "0  0.098698  0.363787  ...   -0.018307  0.277838 -0.110474  0.066928   \n",
       "1  0.085102 -0.255425  ...   -0.225775 -0.638672  0.101288 -0.339846   \n",
       "2  0.247676 -1.514654  ...    0.247998  0.771679  0.909412 -0.689281   \n",
       "3  0.377436 -1.387024  ...   -0.108300  0.005274 -0.190321 -1.175575   \n",
       "4 -0.270533  0.817739  ...   -0.009431  0.798278 -0.137458  0.141267   \n",
       "5  0.260314 -0.568671  ...   -0.208254 -0.559825 -0.026398 -0.371427   \n",
       "6  0.081213  0.464960  ...   -0.167716 -0.270710 -0.154104 -0.780055   \n",
       "7 -3.807864  0.615375  ...    1.943465 -1.015455  0.057504 -0.649709   \n",
       "8  0.851084 -0.392048  ...   -0.073425 -0.268092 -0.204233  1.011592   \n",
       "9  0.069539 -0.736727  ...   -0.246914 -0.633753 -0.120794 -0.385050   \n",
       "\n",
       "        V25       V26       V27       V28  Amount  Class  \n",
       "0  0.128539 -0.189115  0.133558 -0.021053  149.62      0  \n",
       "1  0.167170  0.125895 -0.008983  0.014724    2.69      0  \n",
       "2 -0.327642 -0.139097 -0.055353 -0.059752  378.66      0  \n",
       "3  0.647376 -0.221929  0.062723  0.061458  123.50      0  \n",
       "4 -0.206010  0.502292  0.219422  0.215153   69.99      0  \n",
       "5 -0.232794  0.105915  0.253844  0.081080    3.67      0  \n",
       "6  0.750137 -0.257237  0.034507  0.005168    4.99      0  \n",
       "7 -0.415267 -0.051634 -1.206921 -1.085339   40.80      0  \n",
       "8  0.373205 -0.384157  0.011747  0.142404   93.20      0  \n",
       "9 -0.069733  0.094199  0.246219  0.083076    3.68      0  \n",
       "\n",
       "[10 rows x 31 columns]"
      ]
     },
     "execution_count": 25,
     "metadata": {},
     "output_type": "execute_result"
    }
   ],
   "source": [
    "#Lets get the data and take a look.\n",
    "ccf = pd.read_csv(\"C:/Users/andym/Desktop/AndyMiller/AndyMillerSoftwareDevelopment/DataSets/creditcardfraud.csv\")\n",
    "ccf.head(10)"
   ]
  },
  {
   "cell_type": "code",
   "execution_count": 26,
   "metadata": {
    "collapsed": false
   },
   "outputs": [
    {
     "data": {
      "text/plain": [
       "<matplotlib.text.Text at 0x1838ff03358>"
      ]
     },
     "execution_count": 26,
     "metadata": {},
     "output_type": "execute_result"
    },
    {
     "data": {
      "image/png": "[encoded data removed]",
      "text/plain": [
       "<matplotlib.figure.Figure at 0x1838fe9a128>"
      ]
     },
     "metadata": {},
     "output_type": "display_data"
    }
   ],
   "source": [
    "#Looking at the instances of fraud vs the instances of non-fraud\n",
    "#0 is non-fraud, 1 is fraud.\n",
    "graphData = ccf['Class'].value_counts().sort_index()\n",
    "graphData.plot(kind='bar')\n",
    "plt.title=('Instances of Fraud vs Non-Fraud')\n",
    "plt.xlabel('Class 1 = Fraud, 0 = NonFraud')\n",
    "plt.ylabel('Number of instances')"
   ]
  },
  {
   "cell_type": "code",
   "execution_count": 27,
   "metadata": {
    "collapsed": false
   },
   "outputs": [
    {
     "name": "stdout",
     "output_type": "stream",
     "text": [
      "0    284315\n",
      "1       492\n",
      "Name: Class, dtype: int64\n"
     ]
    }
   ],
   "source": [
    "#So we can't see anything so lets just ask with code:\n",
    "print(ccf['Class'].value_counts())"
   ]
  },
  {
   "cell_type": "markdown",
   "metadata": {},
   "source": [
    "-So there are 284,315 instances of normal transactions\n",
    "-There are also 492 instances of fraud\n",
    "\n",
    "-Prett imbalanced.\n",
    "-The approach to solve this is called undersampling. Undersampling, in this\n",
    "scenario, just means taking all of the fraud instances and picking an equal\n",
    "number of non-fraud instances. This will make it more obvious to the algorithm\n",
    "what a fraud is vs what a not-fraud is. It also simplifies the data.\n",
    "-So ultimately, we're limited by our smallest classification of data, especially\n",
    "in binary examples. This is may not be obvious at first. But think if you\n",
    "lived in a world with 2,000,000 cats and one dog. The dog would be different,\n",
    "but you probably wouldn't have enough information to classify it as a dog, it'd just be some weird thing."
   ]
  },
  {
   "cell_type": "code",
   "execution_count": 28,
   "metadata": {
    "collapsed": false
   },
   "outputs": [
    {
     "name": "stdout",
     "output_type": "stream",
     "text": [
      "The largest transaction is $ 25691.16 , nice, a car maybe?\n",
      "The smallest transaction is $ 0.0 , \"yes, i'd like to buy one nothing please.\"\n",
      "The largest transaction is $ 88.35 , ok, so like a pair of Nike running shoes.\n"
     ]
    }
   ],
   "source": [
    "#Amount needs to be normalized, lets check out the bigged transaction first.\n",
    "#Let's also find the smallest one and the average.\n",
    "#This is good to know\n",
    "print(\"The largest transaction is $\",ccf['Amount'].max(), \", nice, a car maybe?\")\n",
    "print(\"The smallest transaction is $\",ccf['Amount'].min(), \", \\\"yes, i'd like to buy one nothing please.\\\"\")\n",
    "print(\"The largest transaction is $ %.2f\" % ccf['Amount'].mean(), \", ok, so like a pair of Nike running shoes.\")"
   ]
  },
  {
   "cell_type": "code",
   "execution_count": 29,
   "metadata": {
    "collapsed": false
   },
   "outputs": [
    {
     "name": "stdout",
     "output_type": "stream",
     "text": [
      "The largest normalized transaction is $ 102.36 , This is the new car\n",
      "The smallest normalized transaction is $ -0.35 , This is the new 0\n",
      "The average normalized transaction is $ 0.00 , This is the new running shoe\n"
     ]
    },
    {
     "name": "stderr",
     "output_type": "stream",
     "text": [
      "C:\\Users\\andym\\Anaconda3\\lib\\site-packages\\ipykernel\\__main__.py:5: FutureWarning: reshape is deprecated and will raise in a subsequent release. Please use .values.reshape(...) instead\n"
     ]
    }
   ],
   "source": [
    "#So we drop time because it's pretty useless, and we drop the non-normalized amount\n",
    "#I'm going to keep the original data set in memory, but sometimes this isn't a\n",
    "#good idea. change ccfN to ccf if you want to be more efficient.\n",
    "from sklearn.preprocessing import StandardScaler\n",
    "ccf['nAmount'] = StandardScaler().fit_transform(ccf['Amount'].reshape(-1,1))\n",
    "ccfN=ccf.drop(['Time', 'Amount'],axis=1)\n",
    "ccfN.head(10)\n",
    "\n",
    "print(\"The largest normalized transaction is $ %.2f\" % ccfN['nAmount'].max(), \", This is the new car\")\n",
    "print(\"The smallest normalized transaction is $ %.2f\" %ccfN['nAmount'].min(), \", This is the new 0\")\n",
    "print(\"The average normalized transaction is $ %.2f\" % ccfN['nAmount'].mean(), \", This is the new running shoe\")"
   ]
  },
  {
   "cell_type": "markdown",
   "metadata": {},
   "source": [
    "It's important to notice the change in the average. The 32.36 is just for fun, but we can figure that the new max is around the 7500 dollar, the minimum is obviously probably a couple of cents, and the mean is around the 95 dollar range. So a bit skewed but not too bad."
   ]
  },
  {
   "cell_type": "code",
   "execution_count": 30,
   "metadata": {
    "collapsed": false
   },
   "outputs": [
    {
     "name": "stdout",
     "output_type": "stream",
     "text": [
      "Percent Non-Fraud in Undersampled Data:  0.5\n",
      "Percent Fraud in Undersampled Data:  0.5\n",
      "Total Cases:  984\n",
      "The largest normalized transaction is $ 8.44 , This is the new car\n",
      "The smallest normalized transaction is $ -0.35 , This is the new 0\n",
      "The average normalized transaction is $ 0.08 , This is the new running shoe\n"
     ]
    }
   ],
   "source": [
    "#Samples in the tiny class\n",
    "fraudCases = len(ccfN[ccfN.Class==1]) #fraud = 492 pieces\n",
    "fraudIndices = np.array(ccfN[ccfN.Class==1].index) #tells us the row in array format. For Fraud\n",
    "\n",
    "nonFraud = len(ccfN[ccfN.Class==0]) #non-fraud = 284,315 pieces\n",
    "nonFraudIndices = np.array(ccfN[ccfN.Class==0].index) #tells us the row in array format. For non-fraud\n",
    "\n",
    "#Great but we need an undersampled version of the non-Fraud indices\n",
    "randNonFraudIndices = np.random.choice(nonFraudIndices, fraudCases, replace=False) #Generates 492 random non-fraud case indices for us.\n",
    "\n",
    "#Combining and pulling data\n",
    "UnderSampledIndices = np.concatenate([randNonFraudIndices, fraudIndices]) #Combines the indices.\n",
    "underSampled_ccfN = ccfN.iloc[UnderSampledIndices,:] #Grabs us the data that our undersampled indices points to\n",
    "\n",
    "#For training and testing large data:\n",
    "x=ccfN.ix[:,ccfN.columns != 'Class']\n",
    "y=ccfN.ix[:,ccfN.columns == 'Class']\n",
    "#Creates 2 data sets, one with class and indices, (y), and one with attributes and no class, (x)\n",
    "\n",
    "#Testing new data:\n",
    "xU=underSampled_ccfN.ix[:,underSampled_ccfN.columns != 'Class'] #x from above just undersampled\n",
    "yU=underSampled_ccfN.ix[:,underSampled_ccfN.columns == 'Class'] #y from above just undersampled\n",
    "\n",
    "#Checking new dataset, compare this with the old data.\n",
    "print(\"Percent Non-Fraud in Undersampled Data: \", len(randNonFraudIndices)/len(underSampled_ccfN))\n",
    "print(\"Percent Fraud in Undersampled Data: \", len(fraudIndices)/len(underSampled_ccfN))\n",
    "print(\"Total Cases: \", len(underSampled_ccfN))\n",
    "print(\"The largest normalized transaction is $ %.2f\" % underSampled_ccfN['nAmount'].max(), \", This is the new car\")\n",
    "print(\"The smallest normalized transaction is $ %.2f\" % underSampled_ccfN['nAmount'].min(), \", This is the new 0\")\n",
    "print(\"The average normalized transaction is $ %.2f\" % underSampled_ccfN['nAmount'].mean(), \", This is the new running shoe\")\n",
    "#It's important to check out the new mean. That is our change in the data due to undersampling\n",
    "#That is going to cause some form of innacuracy to develop.\n",
    "#Just a good note, I'm not sure how to deal with it yet.\n"
   ]
  },
  {
   "cell_type": "code",
   "execution_count": 31,
   "metadata": {
    "collapsed": false
   },
   "outputs": [],
   "source": [
    "#Debugging Block"
   ]
  },
  {
   "cell_type": "code",
   "execution_count": 32,
   "metadata": {
    "collapsed": false
   },
   "outputs": [
    {
     "name": "stdout",
     "output_type": "stream",
     "text": [
      "Big data set:\n",
      "number of x training:  189966\n",
      "number of y training:  189966\n",
      "number of x testing:  94841\n",
      "number of y testing:  94841\n",
      "Total x:  284807\n",
      "Total y:  284807\n",
      " \n",
      "Baby data set:\n",
      "undersampled number of x training:  656\n",
      "undersampled number of y training:  656\n",
      "undersampled number of x testing:  328\n",
      "undersampled number of y testing:  328\n",
      "undersampled Total x:  984\n",
      "undersampled Total y:  984\n",
      " \n"
     ]
    }
   ],
   "source": [
    "#Let us train, test, split.\n",
    "from sklearn.model_selection import train_test_split\n",
    "\n",
    "\n",
    "#Big data set:\n",
    "xTrain, xTest, yTrain, yTest = train_test_split(x,y,test_size=0.333)\n",
    "\n",
    "#checking lengths to make sure they're right:\n",
    "print(\"Big data set:\")\n",
    "print(\"number of x training: \", len(xTrain))\n",
    "print(\"number of y training: \",len(yTrain))\n",
    "\n",
    "print(\"number of x testing: \", len(xTest))\n",
    "print(\"number of y testing: \",len(yTest))\n",
    "\n",
    "print(\"Total x: \", len(xTrain)+len(xTest))\n",
    "print(\"Total y: \",len(yTrain)+len(yTest))\n",
    "\n",
    "print(\" \")\n",
    "\n",
    "\n",
    "#Undersampled data set:\n",
    "xUTrain, xUTest, yUTrain, yUTest = train_test_split(xU,yU,test_size=0.333)\n",
    "\n",
    "#checking lengths to make sure they're right:\n",
    "print(\"Baby data set:\")\n",
    "print(\"undersampled number of x training: \", len(xUTrain))\n",
    "print(\"undersampled number of y training: \",len(yUTrain))\n",
    "\n",
    "print(\"undersampled number of x testing: \", len(xUTest))\n",
    "print(\"undersampled number of y testing: \",len(yUTest))\n",
    "\n",
    "print(\"undersampled Total x: \", len(xUTrain)+len(xUTest))\n",
    "print(\"undersampled Total y: \",len(yUTrain)+len(yUTest))\n",
    "print(\" \")\n"
   ]
  },
  {
   "cell_type": "code",
   "execution_count": 33,
   "metadata": {
    "collapsed": false
   },
   "outputs": [],
   "source": [
    "#Logistic Regression and Classification\n",
    "from sklearn.linear_model import LogisticRegression\n",
    "from sklearn.model_selection import KFold\n",
    "from sklearn.metrics import confusion_matrix, precision_recall_curve,auc,roc_auc_score,roc_curve,recall_score,classification_report"
   ]
  },
  {
   "cell_type": "code",
   "execution_count": 34,
   "metadata": {
    "collapsed": false
   },
   "outputs": [],
   "source": [
    "def getKFoldScores(xData,yData):\n",
    "    fold = KFold(len(yData),shuffle=False) \n",
    "\n",
    "\n",
    "    cParamRange = [0.01,0.1,1,10,100]\n",
    "\n",
    "    results = pd.DataFrame(index = range(len(cParamRange),2), columns = ['cParam','Mean Recall Score'])\n",
    "    results['cParam'] = cParamRange\n",
    "\n",
    "   \n",
    "    i = 0\n",
    "    for cParam in cParamRange:\n",
    "        print('***')\n",
    "        print('cParam: ', cParam)\n",
    "        print('***')\n",
    "        print('')\n",
    "\n",
    "        recallAccuracies = []\n",
    "        for iteration, indices in enumerate(fold,start=1):\n",
    "\n",
    "          \n",
    "            model = LogisticRegression(C = cParam, penalty = 'l1')\n",
    "\n",
    "\n",
    "            \n",
    "            model.fit(xData.iloc[indices[0],:],yData.iloc[indices[0],:].values.ravel())\n",
    "\n",
    "            \n",
    "            yUPred = model.predict(xData.iloc[indices[1],:].values)\n",
    "\n",
    "\n",
    "            recallAccuracy = recall_score(y_train_data.iloc[indices[1],:].values,y_pred_undersample)\n",
    "            recallAccuracies.append(recall_acc)\n",
    "            print('Iteration ', iteration,'; Recall Score = ', recallAccuracy)\n",
    "\n",
    "       \n",
    "        results.ix[j,'Mean Recall Score'] = np.mean(recallAccuracies)\n",
    "        i += 1\n",
    "        print('')\n",
    "        print('Mean Recall Score ', np.mean(recallAccuracies))\n",
    "        print('')\n",
    "\n",
    "    bestC = results.loc[results['Mean Recall Score'].idxmax()]['cParam']\n",
    "    \n",
    "  \n",
    "    print('***')\n",
    "    print('Best model to choose from cross validation is with C parameter = ', best_c)\n",
    "    print('***')\n",
    "    \n",
    "    return bestC\n",
    "            \n",
    "        "
   ]
  },
  {
   "cell_type": "code",
   "execution_count": 35,
   "metadata": {
    "collapsed": false
   },
   "outputs": [
    {
     "name": "stdout",
     "output_type": "stream",
     "text": [
      "***\n",
      "cParam:  0.01\n",
      "***\n",
      "\n"
     ]
    },
    {
     "ename": "TypeError",
     "evalue": "'KFold' object is not iterable",
     "output_type": "error",
     "traceback": [
      "\u001b[0;31m---------------------------------------------------------------------------\u001b[0m",
      "\u001b[0;31mTypeError\u001b[0m                                 Traceback (most recent call last)",
      "\u001b[0;32m<ipython-input-35-ba40c3fa3524>\u001b[0m in \u001b[0;36m<module>\u001b[0;34m()\u001b[0m\n\u001b[0;32m----> 1\u001b[0;31m \u001b[0mbestC\u001b[0m \u001b[1;33m=\u001b[0m \u001b[0mgetKFoldScores\u001b[0m\u001b[1;33m(\u001b[0m\u001b[0mxUTrain\u001b[0m\u001b[1;33m,\u001b[0m\u001b[0myUTrain\u001b[0m\u001b[1;33m)\u001b[0m\u001b[1;33m\u001b[0m\u001b[0m\n\u001b[0m",
      "\u001b[0;32m<ipython-input-34-b6fba510cf74>\u001b[0m in \u001b[0;36mgetKFoldScores\u001b[0;34m(xData, yData)\u001b[0m\n\u001b[1;32m     17\u001b[0m \u001b[1;33m\u001b[0m\u001b[0m\n\u001b[1;32m     18\u001b[0m         \u001b[0mrecallAccuracies\u001b[0m \u001b[1;33m=\u001b[0m \u001b[1;33m[\u001b[0m\u001b[1;33m]\u001b[0m\u001b[1;33m\u001b[0m\u001b[0m\n\u001b[0;32m---> 19\u001b[0;31m         \u001b[1;32mfor\u001b[0m \u001b[0miteration\u001b[0m\u001b[1;33m,\u001b[0m \u001b[0mindices\u001b[0m \u001b[1;32min\u001b[0m \u001b[0menumerate\u001b[0m\u001b[1;33m(\u001b[0m\u001b[0mfold\u001b[0m\u001b[1;33m,\u001b[0m\u001b[0mstart\u001b[0m\u001b[1;33m=\u001b[0m\u001b[1;36m1\u001b[0m\u001b[1;33m)\u001b[0m\u001b[1;33m:\u001b[0m\u001b[1;33m\u001b[0m\u001b[0m\n\u001b[0m\u001b[1;32m     20\u001b[0m \u001b[1;33m\u001b[0m\u001b[0m\n\u001b[1;32m     21\u001b[0m \u001b[1;33m\u001b[0m\u001b[0m\n",
      "\u001b[0;31mTypeError\u001b[0m: 'KFold' object is not iterable"
     ]
    }
   ],
   "source": [
    "bestC = getKFoldScores(xUTrain,yUTrain)"
   ]
  },
  {
   "cell_type": "code",
   "execution_count": null,
   "metadata": {
    "collapsed": false
   },
   "outputs": [],
   "source": [
    "###I really just couldn't figure the above out right away. So I'm going to skip it for now."
   ]
  },
  {
   "cell_type": "code",
   "execution_count": 36,
   "metadata": {
    "collapsed": false
   },
   "outputs": [],
   "source": [
    "import itertools\n",
    "def plotConfusionMatrix (cm, classes, normalize=False, title='Confusion Matrix', cmap=plt.cm.Greens):\n",
    "    plt.imshow(cm, interpolation='nearest', cmap=cmap)\n",
    "    plt.colorbar()\n",
    "    tick_marks=np.arange(len(classes))\n",
    "    plt.xticks(tick_marks,classes,rotation=0)\n",
    "    plt.yticks(tick_marks,classes)\n",
    "    \n",
    "    if normalize:\n",
    "        cm = cm.astype('float') / cm.sum(axis=1)[:, np.newaxis]\n",
    "    else:\n",
    "        1\n",
    "        \n",
    "    thresh=cm.max()/2.\n",
    "    for i, j in itertools.product(range(cm.shape[0]), range(cm.shape[1])):\n",
    "        plt.text(j,i, cm[i,j],horizontalalignment='center',color='white' if cm[i,j] > thresh else 'black')\n",
    "        \n",
    "    plt.tight_layout()\n",
    "    plt.ylabel('True Label')\n",
    "    plt.xlabel('Predicted label')\n",
    "    "
   ]
  },
  {
   "cell_type": "code",
   "execution_count": 41,
   "metadata": {
    "collapsed": false
   },
   "outputs": [
    {
     "name": "stdout",
     "output_type": "stream",
     "text": [
      "Confusion Matrix: 0.907284768212\n"
     ]
    },
    {
     "data": {
      "image/png": "[encoded data removed]",
      "text/plain": [
       "<matplotlib.figure.Figure at 0x1838ff367b8>"
      ]
     },
     "metadata": {},
     "output_type": "display_data"
    }
   ],
   "source": [
    "model = LogisticRegression(C=100,penalty='l1')\n",
    "model.fit(xUTrain,yUTrain.values.ravel())\n",
    "yUPred = model.predict(xUTest.values)\n",
    "\n",
    "confMatrix = confusion_matrix(yUTest,yUPred)\n",
    "np.set_printoptions(precision=2)\n",
    "\n",
    "print('Confusion Matrix:', confMatrix[1,1]/(confMatrix[1,0]+confMatrix[1,1]))\n",
    "\n",
    "classNames=[0,1]\n",
    "plt.figure()\n",
    "plotConfusionMatrix(confMatrix,classes=classNames)\n",
    "plt.show()"
   ]
  },
  {
   "cell_type": "code",
   "execution_count": null,
   "metadata": {
    "collapsed": true
   },
   "outputs": [],
   "source": [
    "#kewl"
   ]
  },
  {
   "cell_type": "code",
   "execution_count": 50,
   "metadata": {
    "collapsed": false
   },
   "outputs": [
    {
     "name": "stdout",
     "output_type": "stream",
     "text": [
      "Confusion Matrix: 0.906976744186\n"
     ]
    },
    {
     "data": {
      "image/png": "[encoded data removed]",
      "text/plain": [
       "<matplotlib.figure.Figure at 0x1838f05c048>"
      ]
     },
     "metadata": {},
     "output_type": "display_data"
    }
   ],
   "source": [
    "model = LogisticRegression(C=10,penalty='l1')\n",
    "model.fit(xUTrain,yUTrain.values.ravel())\n",
    "yPred = model.predict(xTest.values)\n",
    "\n",
    "confMatrix = confusion_matrix(yTest,yPred)\n",
    "np.set_printoptions(precision=2)\n",
    "\n",
    "print('Confusion Matrix:', confMatrix[1,1]/(confMatrix[1,0]+confMatrix[1,1]))\n",
    "\n",
    "classNames=[0,1]\n",
    "plt.figure()\n",
    "plotConfusionMatrix(confMatrix,classes=classNames)\n",
    "plt.show()"
   ]
  },
  {
   "cell_type": "code",
   "execution_count": 63,
   "metadata": {
    "collapsed": false
   },
   "outputs": [
    {
     "data": {
      "image/png": "[encoded data removed]",
      "text/plain": [
       "<matplotlib.figure.Figure at 0x18390069d68>"
      ]
     },
     "metadata": {},
     "output_type": "display_data"
    }
   ],
   "source": [
    "#Plotting ROC Curve, I've never done this.\n",
    "\n",
    "model = LogisticRegression(C=100, penalty='l1')\n",
    "yUPredScore = model.fit(xUTrain,yUTrain.values.ravel()).decision_function(xUTest.values)\n",
    "\n",
    "fpr, tpr, thresholds = roc_curve(yUTest.values.ravel(),yUPredScore)\n",
    "roc_auc = auc(fpr,tpr)\n",
    "#ROC Curve plot\n",
    "\n",
    "#plt.title('Recieve Operating Characteristic Curve')\n",
    "plt.plot(fpr,tpr,'b',label='AUC = %0.2f'% roc_auc)\n",
    "plt.legend(loc='lower right')\n",
    "plt.plot([0,1],[0,1], 'g--')\n",
    "plt.xlim([-0.1,1.0])\n",
    "plt.ylim([-0.1,1.01])\n",
    "plt.ylabel('True Positive Rate')\n",
    "plt.xlabel('False Positive Rate')\n",
    "plt.show()\n"
   ]
  },
  {
   "cell_type": "code",
   "execution_count": null,
   "metadata": {
    "collapsed": true
   },
   "outputs": [],
   "source": []
  },
  {
   "cell_type": "code",
   "execution_count": null,
   "metadata": {
    "collapsed": true
   },
   "outputs": [],
   "source": []
  },
  {
   "cell_type": "code",
   "execution_count": null,
   "metadata": {
    "collapsed": true
   },
   "outputs": [],
   "source": []
  },
  {
   "cell_type": "code",
   "execution_count": null,
   "metadata": {
    "collapsed": true
   },
   "outputs": [],
   "source": []
  },
  {
   "cell_type": "code",
   "execution_count": null,
   "metadata": {
    "collapsed": true
   },
   "outputs": [],
   "source": []
  },
  {
   "cell_type": "code",
   "execution_count": null,
   "metadata": {
    "collapsed": true
   },
   "outputs": [],
   "source": []
  }
 ],
 "metadata": {
  "anaconda-cloud": {},
  "kernelspec": {
   "display_name": "Python [default]",
   "language": "python",
   "name": "python3"
  },
  "language_info": {
   "codemirror_mode": {
    "name": "ipython",
    "version": 3
   },
   "file_extension": ".py",
   "mimetype": "text/x-python",
   "name": "python",
   "nbconvert_exporter": "python",
   "pygments_lexer": "ipython3",
   "version": "3.5.2"
  }
 },
 "nbformat": 4,
 "nbformat_minor": 1
}
